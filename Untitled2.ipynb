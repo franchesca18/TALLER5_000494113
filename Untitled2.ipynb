{
  "nbformat": 4,
  "nbformat_minor": 0,
  "metadata": {
    "colab": {
      "provenance": [],
      "authorship_tag": "ABX9TyNK2vP4llCkfu8BcIH1V6nS",
      "include_colab_link": true
    },
    "kernelspec": {
      "name": "python3",
      "display_name": "Python 3"
    },
    "language_info": {
      "name": "python"
    }
  },
  "cells": [
    {
      "cell_type": "markdown",
      "metadata": {
        "id": "view-in-github",
        "colab_type": "text"
      },
      "source": [
        "<a href=\"https://colab.research.google.com/github/franchesca18/TALLER5_000494113/blob/main/Untitled2.ipynb\" target=\"_parent\"><img src=\"https://colab.research.google.com/assets/colab-badge.svg\" alt=\"Open In Colab\"/></a>"
      ]
    },
    {
      "cell_type": "markdown",
      "source": [
        "###PROBLEMA 1\n",
        "Escribe un programa en Python que solicite al usuario un número entero positivo n y luego imprima los primeros n números naturales usando un ciclo while"
      ],
      "metadata": {
        "id": "YB3KU_HU0S_I"
      }
    },
    {
      "cell_type": "code",
      "execution_count": 2,
      "metadata": {
        "colab": {
          "base_uri": "https://localhost:8080/"
        },
        "id": "j9SaUGDo0P0U",
        "outputId": "c82d6523-ef5b-44d3-e40b-76002c90468e"
      },
      "outputs": [
        {
          "output_type": "stream",
          "name": "stdout",
          "text": [
            "Por favor, ingresa un número entero positivo: 10\n",
            "1\n",
            "2\n",
            "3\n",
            "4\n",
            "5\n",
            "6\n",
            "7\n",
            "8\n",
            "9\n",
            "10\n"
          ]
        }
      ],
      "source": [
        "n = int(input(\"Por favor, ingresa un número entero positivo: \"))\n",
        "\n",
        "contador = 1\n",
        "while contador <= n:\n",
        "    print(contador)\n",
        "    contador += 1"
      ]
    },
    {
      "cell_type": "markdown",
      "source": [
        "###PROBLEMA 2\n",
        "Escribe un programa en Python que calcule la suma de todos los números pares del 1 al 100 utilizando un ciclo for\n"
      ],
      "metadata": {
        "id": "G_X-qZX002kw"
      }
    },
    {
      "cell_type": "code",
      "source": [
        "suma = 0\n",
        "for numero in range(2, 101, 2):\n",
        "    suma += numero\n",
        "print(\"La suma de los números pares del 1 al 100 es:\", suma)\n"
      ],
      "metadata": {
        "colab": {
          "base_uri": "https://localhost:8080/"
        },
        "id": "VPyvHxlQ1TdM",
        "outputId": "db0372fc-7e38-4b61-a56c-83ba8ce60d7a"
      },
      "execution_count": 3,
      "outputs": [
        {
          "output_type": "stream",
          "name": "stdout",
          "text": [
            "La suma de los números pares del 1 al 100 es: 2550\n"
          ]
        }
      ]
    },
    {
      "cell_type": "markdown",
      "source": [
        "###PROBLEMA 3\n",
        "Escribe un programa en Python que imprima el siguiente patrón utilizando ciclos anidados:\n",
        "1 12 123 1234 12345 Etc…"
      ],
      "metadata": {
        "id": "FHwpsnAg1jzK"
      }
    },
    {
      "cell_type": "code",
      "source": [
        "n = int(input(\"Por favor, ingresa el número de filas para el patrón: \"))\n",
        "for i in range(1, n + 1):\n",
        "    for j in range(1, i + 1):\n",
        "        print(j, end=\"\")\n",
        "    print()"
      ],
      "metadata": {
        "colab": {
          "base_uri": "https://localhost:8080/"
        },
        "id": "2o2zCfHB14az",
        "outputId": "313ae8ea-820d-4f45-e065-89ff31b72eba"
      },
      "execution_count": 4,
      "outputs": [
        {
          "output_type": "stream",
          "name": "stdout",
          "text": [
            "Por favor, ingresa el número de filas para el patrón: 25\n",
            "1\n",
            "12\n",
            "123\n",
            "1234\n",
            "12345\n",
            "123456\n",
            "1234567\n",
            "12345678\n",
            "123456789\n",
            "12345678910\n",
            "1234567891011\n",
            "123456789101112\n",
            "12345678910111213\n",
            "1234567891011121314\n",
            "123456789101112131415\n",
            "12345678910111213141516\n",
            "1234567891011121314151617\n",
            "123456789101112131415161718\n",
            "12345678910111213141516171819\n",
            "1234567891011121314151617181920\n",
            "123456789101112131415161718192021\n",
            "12345678910111213141516171819202122\n",
            "1234567891011121314151617181920212223\n",
            "123456789101112131415161718192021222324\n",
            "12345678910111213141516171819202122232425\n"
          ]
        }
      ]
    },
    {
      "cell_type": "markdown",
      "source": [
        "###PROBLEMA 5\n",
        "Escribe un programa en Python que solicite al usuario un número entero positivo y luego determine si ese número es primo o no u;lizando un ciclo while.\n",
        "\n",
        "  "
      ],
      "metadata": {
        "id": "OTW44mh-2d5j"
      }
    },
    {
      "cell_type": "code",
      "source": [
        "while True:\n",
        "    operacion = input(\"Ingrese una operación matemática (+, -, *, /) o 'salir' para finalizar: \")\n",
        "    if operacion.lower() == \"salir\":\n",
        "        print(\"¡Adiós!\")\n",
        "        break\n",
        "    try:\n",
        "        numero1 = float(input(\"Ingrese el primer número: \"))\n",
        "        numero2 = float(input(\"Ingrese el segundo número: \"))\n",
        "    except ValueError:\n",
        "        print(\"Por favor, ingrese números válidos.\")\n",
        "        continue\n",
        "    if operacion == \"+\":\n",
        "        resultado = numero1 + numero2\n",
        "    elif operacion == \"-\":\n",
        "        resultado = numero1 - numero2\n",
        "    elif operacion == \"*\":\n",
        "        resultado = numero1 * numero2\n",
        "    elif operacion == \"/\":\n",
        "        if numero2 == 0:\n",
        "            print(\"Error: No se puede dividir entre cero.\")\n",
        "            continue\n",
        "        resultado = numero1 / numero2\n",
        "    else:\n",
        "        print(\"Operación no válida.\")\n",
        "        continue\n",
        "\n",
        "    print(\"Resultado:\", resultado)"
      ],
      "metadata": {
        "colab": {
          "base_uri": "https://localhost:8080/"
        },
        "id": "Vwwje3To3Aba",
        "outputId": "02211f2b-0385-4746-f0c6-b50e8a7bad29"
      },
      "execution_count": 6,
      "outputs": [
        {
          "output_type": "stream",
          "name": "stdout",
          "text": [
            "Ingrese una operación matemática (+, -, *, /) o 'salir' para finalizar: +\n",
            "Ingrese el primer número: 15\n",
            "Ingrese el segundo número: 6\n",
            "Resultado: 21.0\n",
            "Ingrese una operación matemática (+, -, *, /) o 'salir' para finalizar: -\n",
            "Ingrese el primer número: 12\n",
            "Ingrese el segundo número: 5\n",
            "Resultado: 7.0\n",
            "Ingrese una operación matemática (+, -, *, /) o 'salir' para finalizar: *\n",
            "Ingrese el primer número: 6\n",
            "Ingrese el segundo número: 8\n",
            "Resultado: 48.0\n",
            "Ingrese una operación matemática (+, -, *, /) o 'salir' para finalizar: /\n",
            "Ingrese el primer número: 10\n",
            "Ingrese el segundo número: 6\n",
            "Resultado: 1.6666666666666667\n",
            "Ingrese una operación matemática (+, -, *, /) o 'salir' para finalizar: SALIR\n",
            "¡Adiós!\n"
          ]
        }
      ]
    },
    {
      "cell_type": "markdown",
      "source": [
        "###PROBLEMA 6\n",
        "Escribe un programa en Python que imprima los números del 1 al número ingresado por el usuario, en orden descendente utilizando un ciclo for y la función range()."
      ],
      "metadata": {
        "id": "dBADOEIL3iRz"
      }
    },
    {
      "cell_type": "code",
      "source": [
        "numero = int(input(\"Ingrese un número entero: \"))\n",
        "for i in range(numero, 0, -1):\n",
        "    print(i)\n"
      ],
      "metadata": {
        "colab": {
          "base_uri": "https://localhost:8080/"
        },
        "id": "JG1T_Cj_4wfS",
        "outputId": "a8f78161-299d-444a-a64b-0a044f373ad9"
      },
      "execution_count": 7,
      "outputs": [
        {
          "output_type": "stream",
          "name": "stdout",
          "text": [
            "Ingrese un número entero: 30\n",
            "30\n",
            "29\n",
            "28\n",
            "27\n",
            "26\n",
            "25\n",
            "24\n",
            "23\n",
            "22\n",
            "21\n",
            "20\n",
            "19\n",
            "18\n",
            "17\n",
            "16\n",
            "15\n",
            "14\n",
            "13\n",
            "12\n",
            "11\n",
            "10\n",
            "9\n",
            "8\n",
            "7\n",
            "6\n",
            "5\n",
            "4\n",
            "3\n",
            "2\n",
            "1\n"
          ]
        }
      ]
    },
    {
      "cell_type": "markdown",
      "source": [
        "###PROBLEMA 7\n",
        "Escribe un programa en Python que imprima la secuencia de números de Fibonacci hasta un valor dado n utilizando un ciclo while"
      ],
      "metadata": {
        "id": "4wq7SJ7P43YB"
      }
    },
    {
      "cell_type": "code",
      "source": [
        "n = int(input(\"Ingrese un valor máximo para la secuencia de Fibonacci: \"))\n",
        "a, b = 0, 1\n",
        "print(a)\n",
        "while b <= n:\n",
        "    print(b)\n",
        "    a, b = b, a + b"
      ],
      "metadata": {
        "colab": {
          "base_uri": "https://localhost:8080/"
        },
        "id": "n20BBfS95W8L",
        "outputId": "5d1219ec-71d6-48fd-de53-d1e3bc0a856e"
      },
      "execution_count": 8,
      "outputs": [
        {
          "output_type": "stream",
          "name": "stdout",
          "text": [
            "Ingrese un valor máximo para la secuencia de Fibonacci: 50\n",
            "0\n",
            "1\n",
            "1\n",
            "2\n",
            "3\n",
            "5\n",
            "8\n",
            "13\n",
            "21\n",
            "34\n"
          ]
        }
      ]
    },
    {
      "cell_type": "markdown",
      "source": [
        "###PROBLEMA 8\n",
        "Escribe un programa en Python que solicite al usuario un número entero positivo y luego calcule la suma de sus dígitos utilizando un ciclo while"
      ],
      "metadata": {
        "id": "qGYF08K75nZR"
      }
    },
    {
      "cell_type": "code",
      "source": [
        "numero = int(input(\"Por favor, ingresa un número entero positivo: \"))\n",
        "if numero < 0:\n",
        "    print(\"El número ingresado no es positivo.\")\n",
        "else:\n",
        "\n",
        "    suma_digitos = 0\n",
        "\n",
        "\n",
        "    while numero > 0:\n",
        "\n",
        "        digito = numero % 10\n",
        "\n",
        "\n",
        "        suma_digitos += digito\n",
        "\n",
        "\n",
        "        numero //= 10\n",
        "\n",
        "\n",
        "    print(\"La suma de los dígitos es:\", suma_digitos)"
      ],
      "metadata": {
        "colab": {
          "base_uri": "https://localhost:8080/"
        },
        "id": "_UagNoRG5x_g",
        "outputId": "d6a7b698-8931-4063-e559-f974d890af24"
      },
      "execution_count": 9,
      "outputs": [
        {
          "output_type": "stream",
          "name": "stdout",
          "text": [
            "Por favor, ingresa un número entero positivo: 18\n",
            "La suma de los dígitos es: 9\n"
          ]
        }
      ]
    }
  ]
}